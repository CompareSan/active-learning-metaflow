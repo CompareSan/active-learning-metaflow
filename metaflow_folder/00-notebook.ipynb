{
 "cells": [
  {
   "cell_type": "code",
   "execution_count": 1,
   "metadata": {},
   "outputs": [],
   "source": [
    "from metaflow import Flow"
   ]
  },
  {
   "cell_type": "code",
   "execution_count": 6,
   "metadata": {},
   "outputs": [
    {
     "name": "stdout",
     "output_type": "stream",
     "text": [
      "Run('ActiveLearningFlow/1698153271577993')\n"
     ]
    }
   ],
   "source": [
    "run = Flow('ActiveLearningFlow').latest_run\n",
    "print(run)"
   ]
  },
  {
   "cell_type": "code",
   "execution_count": 7,
   "metadata": {},
   "outputs": [
    {
     "data": {
      "text/plain": [
       "[0.887,\n",
       " 0.887,\n",
       " 0.887,\n",
       " 0.887,\n",
       " 0.887,\n",
       " 0.887,\n",
       " 0.905,\n",
       " 0.918,\n",
       " 0.905,\n",
       " 0.908,\n",
       " 0.907,\n",
       " 0.92,\n",
       " 0.928,\n",
       " 0.932,\n",
       " 0.931,\n",
       " 0.93]"
      ]
     },
     "execution_count": 7,
     "metadata": {},
     "output_type": "execute_result"
    }
   ],
   "source": [
    "run['active_learning_loop'].task.data.accuracy"
   ]
  },
  {
   "cell_type": "code",
   "execution_count": null,
   "metadata": {},
   "outputs": [],
   "source": []
  }
 ],
 "metadata": {
  "kernelspec": {
   "display_name": "renaulution_env",
   "language": "python",
   "name": "python3"
  },
  "language_info": {
   "codemirror_mode": {
    "name": "ipython",
    "version": 3
   },
   "file_extension": ".py",
   "mimetype": "text/x-python",
   "name": "python",
   "nbconvert_exporter": "python",
   "pygments_lexer": "ipython3",
   "version": "3.11.5"
  },
  "orig_nbformat": 4
 },
 "nbformat": 4,
 "nbformat_minor": 2
}
